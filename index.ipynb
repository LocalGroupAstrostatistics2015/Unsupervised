{
 "metadata": {
  "name": "",
  "signature": "sha256:1dff466dec0754ee2cb3fdbce953d210b7c3b7b1dbd0318807418ee82ce24034"
 },
 "nbformat": 3,
 "nbformat_minor": 0,
 "worksheets": [
  {
   "cells": [
    {
     "cell_type": "markdown",
     "metadata": {},
     "source": [
      "#Clustering, Mixture Models, and Foreground-Background modeling\n",
      "\n",
      "Dustin Lang, Local Group Astrostatistics, 2015-06-04, University of Michigan"
     ]
    },
    {
     "cell_type": "markdown",
     "metadata": {},
     "source": [
      "- [Clustering using K-means](kmeans.ipynb)\n",
      "- [Gaussian Mixture Models and Expectation-Maximization](gmm.ipynb)\n",
      "- [Foreground-Background Mixture Models with sampling](fgbg.ipynb)\n",
      "\n",
      "Some useful resources may include:\n",
      "- [slides from my talk yesterday -- page 18 for E-M outline](http://dstn.astrometry.net/talks/2015-06-03-phat-michigan.pdf)\n",
      "- [slides from my talk today -- K-means](https://github.com/dstndstn/Unsupervised/raw/master/slides/slides.pdf)\n",
      "- [Jake's K-means notebook](https://github.com/LocalGroupAstrostatistics2015/MachineLearning/blob/master/indepth_KMeans.ipynb)\n"
     ]
    }
   ],
   "metadata": {}
  }
 ]
}