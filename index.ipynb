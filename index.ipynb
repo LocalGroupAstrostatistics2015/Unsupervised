{
 "metadata": {
  "name": "",
  "signature": "sha256:308833a7f78bb8804787aa603595b15c1cb2d696487a1c9d17ee42f3cbfdd817"
 },
 "nbformat": 3,
 "nbformat_minor": 0,
 "worksheets": [
  {
   "cells": [
    {
     "cell_type": "markdown",
     "metadata": {},
     "source": [
      "#Clustering, Mixture Models, and Foreground-Background modeling\n",
      "\n",
      "Dustin Lang, Local Group Astrostatistics, 2015-06-04, University of Michigan"
     ]
    },
    {
     "cell_type": "markdown",
     "metadata": {},
     "source": [
      "Have fun exploring one or all of the following notebooks:\n",
      "- [Clustering using K-means](kmeans.ipynb)  [(solution)](kmeans-solution.ipynb)\n",
      "- [Gaussian Mixture Models with Expectation-Maximization](gmm.ipynb)  [(solution)](gmm-solution.ipynb)\n",
      "- [Foreground-Background Mixture Models with sampling](fgbg.ipynb)  [(solution)](fgbg-solution.ipynb)\n",
      "\n",
      "\n",
      "Some useful resources may include:\n",
      "- [slides from my talk yesterday -- page 18 for E-M outline](http://dstn.astrometry.net/talks/2015-06-03-phat-michigan.pdf)\n",
      "- [slides from my talk today -- K-means](https://github.com/dstndstn/Unsupervised/raw/master/slides/slides.pdf)\n",
      "- [Jake's K-means notebook](https://github.com/LocalGroupAstrostatistics2015/MachineLearning/blob/master/indepth_KMeans.ipynb)\n"
     ]
    }
   ],
   "metadata": {}
  }
 ]
}