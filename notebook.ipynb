{
 "metadata": {
  "name": "",
  "signature": "sha256:9ee92adf394734d5f868c25510619d761cada0414576097a729c912f528c26e3"
 },
 "nbformat": 3,
 "nbformat_minor": 0,
 "worksheets": [
  {
   "cells": [
    {
     "cell_type": "markdown",
     "metadata": {},
     "source": [
      "#Clustering, Mixture Models, and Foreground-Background modeling"
     ]
    },
    {
     "cell_type": "markdown",
     "metadata": {},
     "source": [
      "## Clustering using K-means"
     ]
    },
    {
     "cell_type": "markdown",
     "metadata": {},
     "source": [
      "Let's jump right in.  You will write your own K-means algorithm, and test it on some synthetic examples."
     ]
    },
    {
     "cell_type": "code",
     "collapsed": false,
     "input": [
      "%matplotlib inline\n",
      "import numpy as np\n",
      "import pylab as plt\n",
      "# Some utility code for this notebook\n",
      "import utils\n",
      "\n",
      "# Let's generate some synthetic data\n",
      "(amps,means,varis),ax = utils.get_clusters_A()\n",
      "Xi = utils.sample_clusters(amps, means, varis)\n",
      "X = np.vstack(Xi)\n",
      "\n",
      "# Plot the true cluster memberships\n",
      "plt.clf()\n",
      "for i,x in enumerate(Xi):\n",
      "    plt.plot(x[:,0], x[:,1], 'o', color=utils.colors[i])\n",
      "plt.title('True cluster labels');\n"
     ],
     "language": "python",
     "metadata": {},
     "outputs": [
      {
       "metadata": {},
       "output_type": "display_data",
       "png": "[encoded data removed]",
       "text": [
        "<matplotlib.figure.Figure at 0x10bda2190>"
       ]
      }
     ],
     "prompt_number": 1
    },
    {
     "cell_type": "code",
     "collapsed": false,
     "input": [
      "# Now we're going to define our K-means algorithm\n",
      "\n",
      "def k_means(X, K, diagnostics=None):\n",
      "    '''\n",
      "    K-means clustering algorithm.\n",
      "    \n",
      "    *X*: (N, D) array of data points\n",
      "    *K*: integer number of clusters to find\n",
      "    *diagnostics*: optional function to run each round:\n",
      "        diagnostic(step, X, K, centroids, newcentroids, nearest)\n",
      "\n",
      "    Returns: *centroids*: (K,D) array of cluster centroids\n",
      "    '''\n",
      "\n",
      "    N,D = X.shape\n",
      "    \n",
      "    # Initialize randomly: draw K integers (no duplicates)\n",
      "    # using permutation() is overkill, but easy\n",
      "    I = np.random.permutation(N)[:K]\n",
      "    centroids = X[I]\n",
      "\n",
      "    # Loop until convergence... or 20 steps in case you mess up!\n",
      "    for step in range(20):\n",
      "        # Compute the distance from each data point in X\n",
      "        # to each cluster centroid.\n",
      "        distances = utils.distance_matrix(X, centroids)\n",
      "        # 'distances' has shape (N, K)\n",
      "        \n",
      "        # Find the nearest cluster centroid for each data point\n",
      "        nearest = np.argmin(distances, axis=1)\n",
      "        # 'nearest' has shape (N)\n",
      "\n",
      "        # Compute the new centroids...\n",
      "        newcentroids = np.zeros((K, D))\n",
      "        \n",
      "        ##### ADD CODE HERE to compute 'newcentroids' #####\n",
      "        # the line below is not right!\n",
      "        newcentroids = X[np.random.permutation(N)[:K]]\n",
      "        \n",
      "        # data point i is at x,y = (X[i,0], X[i,1]) and is closest\n",
      "        # to cluster centroid index nearest[i].\n",
      "        \n",
      "        # Run diagnostics for this round?\n",
      "        if diagnostics is not None:\n",
      "            diagnostics(step, X, K, centroids, newcentroids, nearest)\n",
      "\n",
      "        # Are we converged?  This is a hacky test.\n",
      "        if np.max(np.abs(newcentroids - centroids)) < 1e-8:\n",
      "            centroids = newcentroids\n",
      "            break\n",
      "\n",
      "        centroids = newcentroids\n",
      "\n",
      "    return centroids\n"
     ],
     "language": "python",
     "metadata": {},
     "outputs": [],
     "prompt_number": 2
    },
    {
     "cell_type": "code",
     "collapsed": false,
     "input": [
      "K = 3\n",
      "# You can call the plotting routine each iteration to see what\n",
      "# happens as the algorithm proceeds\n",
      "# k_means(X, K, diagnostics=utils.plot_kmeans)\n",
      "centroids = k_means(X, K)\n",
      "utils.plot_kmeans(0, X, K, centroids, centroids, None, show=False)\n",
      "plt.title('K-means result');\n"
     ],
     "language": "python",
     "metadata": {},
     "outputs": [
      {
       "metadata": {},
       "output_type": "display_data",
       "png": "[encoded data removed]",
       "text": [
        "<matplotlib.figure.Figure at 0x10e877bd0>"
       ]
      },
      {
       "metadata": {},
       "output_type": "display_data",
       "png": "[encoded data removed]",
       "text": [
        "<matplotlib.figure.Figure at 0x10e6a7d50>"
       ]
      }
     ],
     "prompt_number": 5
    },
    {
     "cell_type": "code",
     "collapsed": false,
     "input": [
      "## Gaussian Mixture Models and the E-M Algorithm"
     ],
     "language": "python",
     "metadata": {},
     "outputs": [],
     "prompt_number": 2
    },
    {
     "cell_type": "code",
     "collapsed": false,
     "input": [],
     "language": "python",
     "metadata": {},
     "outputs": []
    },
    {
     "cell_type": "markdown",
     "metadata": {},
     "source": [
      "## Foreground-Background Modeling"
     ]
    },
    {
     "cell_type": "markdown",
     "metadata": {},
     "source": [
      "## Extreme Deconvolution"
     ]
    },
    {
     "cell_type": "code",
     "collapsed": false,
     "input": [],
     "language": "python",
     "metadata": {},
     "outputs": []
    }
   ],
   "metadata": {}
  }
 ]
}