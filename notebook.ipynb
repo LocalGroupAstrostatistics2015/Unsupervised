{
 "metadata": {
  "name": "",
  "signature": "sha256:561735194a5ae5e89da0d61362bb2ee615857985fd632933e0ff83eb972707b0"
 },
 "nbformat": 3,
 "nbformat_minor": 0,
 "worksheets": [
  {
   "cells": [
    {
     "cell_type": "markdown",
     "metadata": {},
     "source": [
      "#Clustering, Mixture Models, and Foreground-Background modeling"
     ]
    },
    {
     "cell_type": "markdown",
     "metadata": {},
     "source": [
      "## Clustering using K-means"
     ]
    },
    {
     "cell_type": "markdown",
     "metadata": {},
     "source": [
      "Let's jump right in.  "
     ]
    },
    {
     "cell_type": "code",
     "collapsed": false,
     "input": [
      "## Gaussian Mixture Models and the E-M Algorithm"
     ],
     "language": "python",
     "metadata": {},
     "outputs": [],
     "prompt_number": 2
    },
    {
     "cell_type": "markdown",
     "metadata": {},
     "source": [
      "## Foreground-Background Modeling"
     ]
    },
    {
     "cell_type": "markdown",
     "metadata": {},
     "source": [
      "## Extreme Deconvolution"
     ]
    },
    {
     "cell_type": "code",
     "collapsed": false,
     "input": [],
     "language": "python",
     "metadata": {},
     "outputs": []
    }
   ],
   "metadata": {}
  }
 ]
}